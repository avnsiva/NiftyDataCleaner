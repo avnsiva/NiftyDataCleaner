{
 "cells": [
  {
   "cell_type": "code",
   "execution_count": 1,
   "metadata": {},
   "outputs": [],
   "source": [
    "import os\n",
    "import pandas as pd\n",
    "from zipfile import ZipFile\n",
    "\n",
    "year=\"D:\\Data\\OneMinuteData\\oneminutedata\\\\2019\\\\\"\n",
    "intermediatePath=\"D:\\Data\\OneMinuteData\\oneminutedata\\\\2019\\\\RAW\"\n",
    "monthList = os.listdir(year)\n",
    "print(monthList)\n",
    "\n",
    "months = []\n",
    "for month in monthList:\n",
    "    path = year+month\n",
    "    months.append(path)\n",
    "print(months)\n",
    "for month in months:\n",
    "    fileList = os.listdir(month)\n",
    "    print(\"Files list are\" , fileList)\n",
    "    for files in fileList:\n",
    "        if files.endswith(\".zip\"):\n",
    "            print(\"File name is \" + files)\n",
    "            with ZipFile(month+\"\\\\\"+files, 'r') as zipObj:\n",
    "                listOfFileNames = zipObj.namelist()\n",
    "                for fileName in listOfFileNames:\n",
    "                    if fileName.endswith(\"BANKNIFTY_F1.txt\"):\n",
    "                        print(\"matched the file name\")\n",
    "                        zipObj.extract(fileName, intermediatePath)"
   ]
  }
 ],
 "metadata": {
  "kernelspec": {
   "display_name": "Python 3",
   "language": "python",
   "name": "python3"
  },
  "language_info": {
   "codemirror_mode": {
    "name": "ipython",
    "version": 3
   },
   "file_extension": ".py",
   "mimetype": "text/x-python",
   "name": "python",
   "nbconvert_exporter": "python",
   "pygments_lexer": "ipython3",
   "version": "3.7.6"
  }
 },
 "nbformat": 4,
 "nbformat_minor": 4
}
