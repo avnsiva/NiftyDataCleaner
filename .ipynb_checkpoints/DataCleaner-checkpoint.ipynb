{
 "cells": [
  {
   "cell_type": "code",
   "execution_count": null,
   "metadata": {},
   "outputs": [],
   "source": [
    "import os\n",
    "import pandas as pd\n",
    "from pathlib import Path\n",
    "from zipfile import ZipFile\n",
    "years = []\n",
    "basePath =Path(\"C:\\\\Users\\sivar\\OneDrive\\code\\oneminutedata\")\n",
    "for f in basePath.iterdir():\n",
    "    if f.is_dir():\n",
    "        if (\"RAW\" in str(f) or \"Upto\" in str(f)):\n",
    "            x = 1\n",
    "        else:\n",
    "            years.append(Path(f))\n",
    "        \n",
    "print(years)"
   ]
  },
  {
   "cell_type": "code",
   "execution_count": null,
   "metadata": {},
   "outputs": [],
   "source": [
    "monthlist = []\n",
    "for year in years:\n",
    "    if year.is_dir():\n",
    "        for month in year.iterdir():\n",
    "            if month.is_dir():\n",
    "                monthlist.append((Path(month)))\n",
    "print(monthlist)"
   ]
  },
  {
   "cell_type": "code",
   "execution_count": null,
   "metadata": {},
   "outputs": [],
   "source": [
    "targetBasePath = \"C:\\\\data\\\\Extracted1\\\\\""
   ]
  },
  {
   "cell_type": "code",
   "execution_count": null,
   "metadata": {},
   "outputs": [],
   "source": [
    "for mt in monthlist:\n",
    "    extractedPathStr = targetBasePath + mt.parent.name + \"\\\\\" + mt.name\n",
    "    extractedPath = Path(extractedPathStr)\n",
    "    for m in mt.iterdir():\n",
    "        if(str(m).endswith(\".zip\")):\n",
    "            with ZipFile(m,'r') as zipObj:\n",
    "                zipObj.extractall(extractedPath)\n",
    "        else:\n",
    "            print(mt.parent.name)\n",
    "            print(mt.name)\n"
   ]
  },
  {
   "cell_type": "code",
   "execution_count": null,
   "metadata": {},
   "outputs": [],
   "source": [
    "import os\n",
    "def run_fast_scandir(dir, ext):    # dir: str, ext: list\n",
    "    subfolders, files = [], []\n",
    "\n",
    "    for f in os.scandir(dir):\n",
    "        if f.is_dir():\n",
    "            subfolders.append(f.path)\n",
    "            #print(subfolders)\n",
    "        if f.is_file():\n",
    "            if os.path.splitext(f.name)[1].lower() in ext:\n",
    "                files.append(f.path)\n",
    "\n",
    "\n",
    "    for dir in list(subfolders):\n",
    "        sf, f = run_fast_scandir(dir, ext)\n",
    "        subfolders.extend(sf)\n",
    "        files.extend(f)\n",
    "    return subfolders, files\n",
    "\n",
    "\n",
    "subfolders, files1 = run_fast_scandir(targetBasePath, [\".txt\"])"
   ]
  },
  {
   "cell_type": "code",
   "execution_count": null,
   "metadata": {},
   "outputs": [],
   "source": [
    "from pathlib import Path\n",
    "symlist = []\n",
    "for file in files1:\n",
    "    symlist.append(Path(file).name)\n",
    "symbols = list(dict.fromkeys(symlist))"
   ]
  },
  {
   "cell_type": "code",
   "execution_count": null,
   "metadata": {},
   "outputs": [],
   "source": [
    "consolidatedpath = \"c:\\data\\symbols\"\n",
    "for symbol in symbols:\n",
    "    print(symbol)\n",
    "    fileName = consolidatedpath+\"\\\\\"+symbol\n",
    "    with open(Path(fileName), 'w') as output_file:\n",
    "        for file in files1:\n",
    "            if Path(file).name == symbol:\n",
    "                with open(Path(file)) as input_file:\n",
    "                    output_file.write(input_file.read())"
   ]
  },
  {
   "cell_type": "markdown",
   "metadata": {},
   "source": [
    "### SPOT ROW EXAMPLE\n",
    "\n",
    "BANKNIFTY,20121031,15:30,11246.50,11251.80,11243.95,11250.20\n",
    "\n",
    "BANKNIFTY,20160901,09:16,19804.05,19804.05,19771.00,19784.95,54,0\n",
    "\n",
    "### FUTURES ROW EXAMPLE\n",
    "\n",
    "BANKNIFTY_F1,20121031,15:30,11326.00,11334.00,11320.05,11334.00,17500\n",
    "BANKNIFTY_F1,20160901,09:16,19879.85,19879.85,19849.75,19854.00,33920,2825760"
   ]
  },
  {
   "cell_type": "markdown",
   "metadata": {},
   "source": [
    "### SPOT COLUMNS\n",
    "Symbol, Date, Time, Open, High, Log. Close, Volume, Value\n",
    "\n",
    "### Futures Columns\n",
    "Symbol, Date, Time, Open, High, Low, Close, Volume, Value"
   ]
  },
  {
   "cell_type": "code",
   "execution_count": null,
   "metadata": {},
   "outputs": [],
   "source": [
    "import pandas as pd\n",
    "symbolpath = \"c:\\data\\symbols\"\n",
    "colnames=['Symbol', 'Date', 'Time', 'Open', 'High', 'Low', 'Close', 'Volume', 'Value'] \n",
    "df = pd.read_csv(\"c:\\data\\symbols\\BANKNIFTY_F1.txt\", names=colnames)\n",
    "df['Date'] = df['Date'].astype(str)\n",
    "df['Date'] = df['Date'].str[:8]\n",
    "df['Date'] = df['Date'] + ' ' + df['Time']\n",
    "df['Date'] = pd.to_datetime(df['Date'], format = \"%Y%m%d %H:%M\")\n",
    "df.set_index('Date', inplace=True)\n",
    "ohlc = {\n",
    "    'Open': 'first',\n",
    "    'High': 'max',\n",
    "    'Low': 'min',\n",
    "    'Close': 'last',\n",
    "    'Volume': 'sum',\n",
    "    'Value' : 'sum'\n",
    "}\n",
    "\n",
    "df5min = df.resample('5min', base=15).apply(ohlc)\n",
    "df5min.head()\n",
    "df5min = df5min.between_time('09:15', '15:30')\n",
    "df5min = df5min.drop(df5min[df5min.Open.isnull()].index)"
   ]
  },
  {
   "cell_type": "code",
   "execution_count": null,
   "metadata": {},
   "outputs": [],
   "source": [
    "df5min.tail()\n"
   ]
  }
 ],
 "metadata": {
  "kernelspec": {
   "display_name": "Python 3",
   "language": "python",
   "name": "python3"
  },
  "language_info": {
   "codemirror_mode": {
    "name": "ipython",
    "version": 3
   },
   "file_extension": ".py",
   "mimetype": "text/x-python",
   "name": "python",
   "nbconvert_exporter": "python",
   "pygments_lexer": "ipython3",
   "version": "3.8.8"
  }
 },
 "nbformat": 4,
 "nbformat_minor": 4
}
