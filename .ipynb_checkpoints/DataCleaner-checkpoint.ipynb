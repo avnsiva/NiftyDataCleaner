{
 "cells": [
  {
   "cell_type": "code",
   "execution_count": null,
   "metadata": {},
   "outputs": [],
   "source": [
    "import os\n",
    "import pandas as pd\n",
    "from pathlib import Path\n",
    "from zipfile import ZipFile\n",
    "years = []\n",
    "basePath =Path(\"C:\\\\Users\\sivar\\OneDrive\\code\\oneminutedata\")\n",
    "for f in basePath.iterdir():\n",
    "    if f.is_dir():\n",
    "        if (\"RAW\" in str(f) or \"Upto\" in str(f)):\n",
    "            x = 1\n",
    "        else:\n",
    "            years.append(Path(f))\n",
    "        \n",
    "print(years)"
   ]
  },
  {
   "cell_type": "code",
   "execution_count": null,
   "metadata": {},
   "outputs": [],
   "source": [
    "monthlist = []\n",
    "for year in years:\n",
    "    if year.is_dir():\n",
    "        for month in year.iterdir():\n",
    "            if month.is_dir():\n",
    "                monthlist.append((Path(month)))\n",
    "print(monthlist)"
   ]
  },
  {
   "cell_type": "code",
   "execution_count": null,
   "metadata": {},
   "outputs": [],
   "source": [
    "targetBasePath = \"C:\\\\data\\\\Extracted1\\\\\""
   ]
  },
  {
   "cell_type": "code",
   "execution_count": null,
   "metadata": {},
   "outputs": [],
   "source": [
    "for mt in monthlist:\n",
    "    extractedPathStr = targetBasePath + mt.parent.name + \"\\\\\" + mt.name\n",
    "    extractedPath = Path(extractedPathStr)\n",
    "    for m in mt.iterdir():\n",
    "        if(str(m).endswith(\".zip\")):\n",
    "            with ZipFile(m,'r') as zipObj:\n",
    "                zipObj.extractall(extractedPath)\n",
    "        else:\n",
    "            print(mt.parent.name)\n",
    "            print(mt.name)\n"
   ]
  }
 ],
 "metadata": {
  "kernelspec": {
   "display_name": "Python 3",
   "language": "python",
   "name": "python3"
  },
  "language_info": {
   "codemirror_mode": {
    "name": "ipython",
    "version": 3
   },
   "file_extension": ".py",
   "mimetype": "text/x-python",
   "name": "python",
   "nbconvert_exporter": "python",
   "pygments_lexer": "ipython3",
   "version": "3.8.8"
  }
 },
 "nbformat": 4,
 "nbformat_minor": 4
}
