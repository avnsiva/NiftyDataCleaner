{
 "cells": [
  {
   "cell_type": "code",
   "execution_count": null,
   "metadata": {},
   "outputs": [],
   "source": [
    "import os\n",
    "import pandas as pd\n",
    "from pathlib import Path\n",
    "from zipfile import ZipFile\n",
    "years = []\n",
    "basePath =Path(\"C:\\\\Users\\sivar\\OneDrive\\code\\oneminutedata\")\n",
    "for f in basePath.iterdir():\n",
    "    if f.is_dir():\n",
    "        if (\"RAW\" in str(f) or \"Upto\" in str(f)):\n",
    "            x = 1\n",
    "        else:\n",
    "            years.append(Path(f))\n",
    "        \n",
    "print(years)"
   ]
  },
  {
   "cell_type": "code",
   "execution_count": null,
   "metadata": {},
   "outputs": [],
   "source": [
    "monthlist = []\n",
    "for year in years:\n",
    "    if year.is_dir():\n",
    "        for month in year.iterdir():\n",
    "            if month.is_dir():\n",
    "                monthlist.append((Path(month)))\n",
    "print(monthlist)"
   ]
  },
  {
   "cell_type": "code",
   "execution_count": null,
   "metadata": {},
   "outputs": [],
   "source": [
    "targetBasePath = \"C:\\\\data\\\\Extracted1\\\\\""
   ]
  },
  {
   "cell_type": "code",
   "execution_count": null,
   "metadata": {},
   "outputs": [],
   "source": [
    "for mt in monthlist:\n",
    "    extractedPathStr = targetBasePath + mt.parent.name + \"\\\\\" + mt.name\n",
    "    extractedPath = Path(extractedPathStr)\n",
    "    for m in mt.iterdir():\n",
    "        if(str(m).endswith(\".zip\")):\n",
    "            with ZipFile(m,'r') as zipObj:\n",
    "                zipObj.extractall(extractedPath)\n",
    "        else:\n",
    "            print(mt.parent.name)\n",
    "            print(mt.name)\n"
   ]
  },
  {
   "cell_type": "code",
   "execution_count": null,
   "metadata": {},
   "outputs": [],
   "source": [
    "import os\n",
    "def run_fast_scandir(dir, ext):    # dir: str, ext: list\n",
    "    subfolders, files = [], []\n",
    "\n",
    "    for f in os.scandir(dir):\n",
    "        if f.is_dir():\n",
    "            subfolders.append(f.path)\n",
    "            #print(subfolders)\n",
    "        if f.is_file():\n",
    "            if os.path.splitext(f.name)[1].lower() in ext:\n",
    "                files.append(f.path)\n",
    "\n",
    "\n",
    "    for dir in list(subfolders):\n",
    "        sf, f = run_fast_scandir(dir, ext)\n",
    "        subfolders.extend(sf)\n",
    "        files.extend(f)\n",
    "    return subfolders, files\n",
    "\n",
    "\n",
    "subfolders, files1 = run_fast_scandir(targetBasePath, [\".txt\"])"
   ]
  },
  {
   "cell_type": "code",
   "execution_count": null,
   "metadata": {},
   "outputs": [],
   "source": [
    "from pathlib import Path\n",
    "symlist = []\n",
    "for file in files1:\n",
    "    symlist.append(Path(file).name)\n",
    "symbols = list(dict.fromkeys(symlist))"
   ]
  },
  {
   "cell_type": "code",
   "execution_count": null,
   "metadata": {},
   "outputs": [],
   "source": [
    "consolidatedpath = \"c:\\data\\symbols\"\n",
    "for symbol in symbols:\n",
    "    print(symbol)\n",
    "    fileName = consolidatedpath+\"\\\\\"+symbol\n",
    "    with open(Path(fileName), 'w') as output_file:\n",
    "        for file in files1:\n",
    "            if Path(file).name == symbol:\n",
    "                with open(Path(file)) as input_file:\n",
    "                    output_file.write(input_file.read())"
   ]
  },
  {
   "cell_type": "code",
   "execution_count": null,
   "metadata": {},
   "outputs": [],
   "source": []
  }
 ],
 "metadata": {
  "kernelspec": {
   "display_name": "Python 3",
   "language": "python",
   "name": "python3"
  },
  "language_info": {
   "codemirror_mode": {
    "name": "ipython",
    "version": 3
   },
   "file_extension": ".py",
   "mimetype": "text/x-python",
   "name": "python",
   "nbconvert_exporter": "python",
   "pygments_lexer": "ipython3",
   "version": "3.8.8"
  }
 },
 "nbformat": 4,
 "nbformat_minor": 4
}
